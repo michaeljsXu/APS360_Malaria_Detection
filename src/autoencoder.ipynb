{
  "cells": [
    {
      "cell_type": "markdown",
      "metadata": {
        "id": "UimdHbkxkKAZ"
      },
      "source": [
        "# Autoencoder\n",
        "\n",
        "An **Autoencoder** is a neural network that first compresses the input data into a lower dimensional latent space and then reconstructs the output from this representation. \n",
        "\n",
        "To train an autoencoder for the task of classification, there are three steps. \n",
        "\n",
        "1. Train the full autoencoder model with encoder and decoder. \n",
        "   * The Mean Square Error (MSE) loss function can be used to calculate the loss of the reconstructed images.\n",
        "2. Replace the decoder with fully connected layers, freeze the encoder layers, and train the model on classification. \n",
        "   * This allows the fully connected layers to learn the image features without changing the encoder's weights and bias. \n",
        "   * The Cross Entropy loss function can be used to calculate the loss. \n",
        "3. Unfreeze the encoder layers and train the model. This will lead to better performance by the model. "
      ]
    },
    {
      "cell_type": "markdown",
      "metadata": {
        "id": "wfhsEdWkRZ47"
      },
      "source": [
        "## Definitions"
      ]
    },
    {
      "cell_type": "code",
      "execution_count": 86,
      "metadata": {
        "id": "yMkBrT7YRgic"
      },
      "outputs": [],
      "source": [
        "import torch\n",
        "import torch.nn as nn\n",
        "import torch.nn.functional as F\n",
        "import torch.optim as optim\n",
        "import torchvision.transforms as transforms\n",
        "from torch.utils.data import Dataset, DataLoader \n",
        "import pandas as pd\n",
        "import numpy as np\n",
        "import matplotlib.pyplot as plt\n",
        "import tensorflow as tf\n",
        "import tensorflow_datasets as tfds\n",
        "from IPython.display import display\n",
        "from PIL import Image\n",
        "import random\n",
        "import pickle\n",
        "import pathlib\n",
        "\n",
        "def show_samples(samples):\n",
        "    x = int(len(samples) / 2)\n",
        "    y = len(samples) - x\n",
        "    for i in range(len(samples)):\n",
        "        plt.subplot(x, y, i + 1)\n",
        "        plt.subplots_adjust(hspace=1)\n",
        "        plt.imshow(samples[i][0], cmap='gray')\n",
        "        plt.title(\"Uninfected\" if samples[i][1] else \"Infected\", loc='center')\n",
        "        plt.ylabel(f\"Height ({samples[i][0].shape[0]})\")\n",
        "        plt.xlabel(f\"Width ({samples[i][0].shape[1]})\")\n",
        "    plt.show()\n",
        "\n",
        "\n",
        "class MalariaDataset(Dataset):\n",
        "    def __init__(self, dataframe, transform=None):\n",
        "        self.dataframe = dataframe\n",
        "        self.transform = transform\n",
        "        self.n_samples = len(dataframe)\n",
        "\n",
        "    def __len__(self):\n",
        "        return self.n_samples\n",
        "\n",
        "    def __getitem__(self, index):\n",
        "        image, label = self.dataframe[index]\n",
        "        if self.transform: \n",
        "            image = self.transform(image)\n",
        "        return image, label\n",
        "\n",
        "\n",
        "class Autoencoder(nn.Module):\n",
        "    def __init__(self): \n",
        "        super().__init__()\n",
        "        # 32 - 30 - 15 - 13 - 6 - 4 - 2\n",
        "        self.Encoder = nn.Sequential(\n",
        "            nn.Conv2d(3, 16, 3), \n",
        "            nn.ReLU(), \n",
        "            nn.MaxPool2d(2), \n",
        "            nn.Conv2d(16, 8, 3), \n",
        "            nn.ReLU(), \n",
        "            nn.MaxPool2d(2), \n",
        "            nn.ReLU(), \n",
        "            nn.Conv2d(8, 4, 3), \n",
        "            nn.ReLU(), \n",
        "            nn.MaxPool2d(2),\n",
        "        )\n",
        "        # 2 - 4 - 6 - 12 - 14 - 28 - 30 - 32\n",
        "        self.Decoder = nn.Sequential(\n",
        "            nn.Upsample(scale_factor=2, mode='nearest'), \n",
        "            nn.ConvTranspose2d(4, 8, 3), \n",
        "            nn.ReLU(), \n",
        "            nn.Upsample(scale_factor=2, mode='nearest'),\n",
        "            nn.ConvTranspose2d(8, 16, 3), \n",
        "            nn.ReLU(), \n",
        "            nn.Upsample(scale_factor=2, mode='nearest'),\n",
        "            nn.ConvTranspose2d(16, 16, 3), \n",
        "            nn.ReLU(),\n",
        "            nn.ConvTranspose2d(16, 3, 3), \n",
        "            nn.ReLU(),\n",
        "        )\n",
        "    \n",
        "    def forward(self, input): \n",
        "        output = self.Encoder(input)\n",
        "        output = self.Decoder(output)\n",
        "        return output\n",
        "        \n",
        "\n",
        "class Encoder(nn.Module): \n",
        "    def __init__(self): \n",
        "        super().__init__()\n",
        "        self.Encoder = nn.Sequential(\n",
        "            nn.Conv2d(3, 16, 3), \n",
        "            nn.ReLU(), \n",
        "            nn.MaxPool2d(2, 1), \n",
        "            nn.Conv2d(16, 8, 3), \n",
        "            nn.ReLU(), \n",
        "            nn.MaxPool2d(2, 1), \n",
        "            nn.ReLU(), \n",
        "            nn.Conv2d(8, 4, 3), \n",
        "            nn.ReLU(), \n",
        "            nn.MaxPool2d(2, 1),\n",
        "        )\n",
        "        self.FC = nn.Sequential(\n",
        "            nn.Flatten(),\n",
        "            nn.Linear(4 * 23 * 23, 512),\n",
        "            nn.ReLU(),\n",
        "            nn.Linear(512, 16), \n",
        "            nn.ReLU(),\n",
        "            nn.Linear(16, 1),\n",
        "        )\n",
        "    \n",
        "    def forward(self, input): \n",
        "        output = self.Encoder(input)\n",
        "        # print(output.shape)\n",
        "        output = self.FC(output)\n",
        "        return output\n",
        "\n",
        "\n",
        "def evaluate(model, loader): \n",
        "    total_err = 0\n",
        "    total_samples = 0\n",
        "    for images, labels in loader: \n",
        "        total_err += int(((model(images) > 0.0).squeeze().long() != labels).sum())\n",
        "        total_samples += len(labels)\n",
        "    return float(total_err) / total_samples"
      ]
    },
    {
      "cell_type": "markdown",
      "metadata": {
        "id": "SJHODFfqSS0x"
      },
      "source": [
        "## Loading Data"
      ]
    },
    {
      "cell_type": "code",
      "execution_count": 43,
      "metadata": {
        "id": "njiachN1kQIl"
      },
      "outputs": [],
      "source": [
        "input_size = 32\n",
        "data_dir = f\"../data/corrected_{input_size}.pickle\"\n",
        "df = pd.read_pickle(data_dir)"
      ]
    },
    {
      "cell_type": "code",
      "execution_count": 44,
      "metadata": {
        "id": "yqVjwRCsyrkC"
      },
      "outputs": [],
      "source": [
        "np.random.seed(1000)\n",
        "np_df = df.to_numpy()\n",
        "np.random.shuffle(np_df)\n",
        "df_trn = np_df[:int(len(np_df) * 0.8)]\n",
        "df_val = np_df[int(len(np_df) * 0.8):]\n",
        "\n",
        "batch_size = 32\n",
        "\n",
        "train_dataset = MalariaDataset(df_trn, transform=transforms.ToTensor())\n",
        "train_loader = DataLoader(train_dataset, batch_size=batch_size, shuffle=False)\n",
        "val_dataset = MalariaDataset(df_val, transform=transforms.ToTensor())\n",
        "val_loader = DataLoader(val_dataset, batch_size=batch_size, shuffle=False)"
      ]
    },
    {
      "cell_type": "markdown",
      "metadata": {
        "id": "mygWHJIWxiOA"
      },
      "source": [
        "## Full Autoencoder\n",
        "\n",
        "### Setup"
      ]
    },
    {
      "cell_type": "code",
      "execution_count": 73,
      "metadata": {
        "colab": {
          "base_uri": "https://localhost:8080/"
        },
        "id": "LxwVnH_MymOp",
        "outputId": "e40efc52-77d1-49ae-ec7c-994cf1425d63"
      },
      "outputs": [],
      "source": [
        "num_steps = len(train_loader)\n",
        "learning_rate = 0.001\n",
        "num_epochs = 10\n",
        "\n",
        "torch.manual_seed(1000)\n",
        "model = Autoencoder()\n",
        "loss = nn.MSELoss()\n",
        "optimizer = optim.Adam(model.parameters(), lr=learning_rate)"
      ]
    },
    {
      "cell_type": "markdown",
      "metadata": {
        "id": "OF7jan5XzZaK"
      },
      "source": [
        "### Training"
      ]
    },
    {
      "cell_type": "code",
      "execution_count": 74,
      "metadata": {
        "id": "pvVdlewkA19s"
      },
      "outputs": [
        {
          "name": "stdout",
          "output_type": "stream",
          "text": [
            "Epoch: 1/10, Loss: 0.0343\n",
            "Epoch: 2/10, Loss: 0.0173\n",
            "Epoch: 3/10, Loss: 0.0157\n",
            "Epoch: 4/10, Loss: 0.0148\n",
            "Epoch: 5/10, Loss: 0.0141\n",
            "Epoch: 6/10, Loss: 0.0135\n",
            "Epoch: 7/10, Loss: 0.0128\n",
            "Epoch: 8/10, Loss: 0.0122\n",
            "Epoch: 9/10, Loss: 0.0120\n",
            "Epoch: 10/10, Loss: 0.0118\n"
          ]
        }
      ],
      "source": [
        "for epoch in range(num_epochs):\n",
        "    running_loss = 0\n",
        "    for images, _ in train_loader: \n",
        "        # forward pass\n",
        "        outputs = model(images)\n",
        "        loss_value = loss(outputs, images)\n",
        "        # backward pass\n",
        "        optimizer.zero_grad()\n",
        "        loss_value.backward()\n",
        "        optimizer.step()\n",
        "        # loss \n",
        "        running_loss += loss_value.item()\n",
        "    print(f\"Epoch: {epoch + 1}/{num_epochs}, Loss: {float(running_loss) / num_steps:.4f}\")\n",
        "\n",
        "torch.save(model.state_dict(), \"encoder.pth\")"
      ]
    },
    {
      "cell_type": "markdown",
      "metadata": {
        "id": "uWA9a2FLxQNG"
      },
      "source": [
        "## Freezing Encoder Layers"
      ]
    },
    {
      "cell_type": "code",
      "execution_count": 94,
      "metadata": {
        "id": "2Jp8jhRYA-_P"
      },
      "outputs": [],
      "source": [
        "encoder = Encoder()\n",
        "\n",
        "for i, (encoder_param, param) in enumerate(zip(encoder.parameters(), model.parameters())): \n",
        "    if i < 6: \n",
        "        encoder_param.data = param.data\n",
        "        encoder_param.requires_grad = False\n",
        "\n",
        "loss = nn.BCEWithLogitsLoss()\n",
        "optimizer = optim.Adam(encoder.parameters(), lr=0.001)"
      ]
    },
    {
      "cell_type": "code",
      "execution_count": null,
      "metadata": {},
      "outputs": [],
      "source": [
        "for i, param in enumerate(encoder.parameters()): \n",
        "    print(param.requires_grad)"
      ]
    },
    {
      "cell_type": "code",
      "execution_count": 95,
      "metadata": {},
      "outputs": [
        {
          "name": "stdout",
          "output_type": "stream",
          "text": [
            "Epoch 1/30, Loss: 0.661382, Validation Error: 0.443940\n",
            "Epoch 2/30, Loss: 0.652308, Validation Error: 0.425980\n",
            "Epoch 3/30, Loss: 0.658619, Validation Error: 0.439405\n",
            "Epoch 4/30, Loss: 0.651078, Validation Error: 0.437591\n",
            "Epoch 5/30, Loss: 0.658666, Validation Error: 0.427431\n",
            "Epoch 6/30, Loss: 0.651698, Validation Error: 0.419811\n",
            "Epoch 7/30, Loss: 0.645308, Validation Error: 0.413643\n",
            "Epoch 8/30, Loss: 0.635493, Validation Error: 0.402939\n",
            "Epoch 9/30, Loss: 0.636386, Validation Error: 0.400943\n",
            "Epoch 10/30, Loss: 0.634571, Validation Error: 0.400036\n",
            "Epoch 11/30, Loss: 0.638524, Validation Error: 0.398222\n",
            "Epoch 12/30, Loss: 0.636561, Validation Error: 0.394775\n",
            "Epoch 13/30, Loss: 0.639486, Validation Error: 0.402032\n",
            "Epoch 14/30, Loss: 0.640354, Validation Error: 0.397859\n",
            "Epoch 15/30, Loss: 0.642340, Validation Error: 0.400218\n",
            "Epoch 16/30, Loss: 0.633433, Validation Error: 0.400218\n",
            "Epoch 17/30, Loss: 0.636363, Validation Error: 0.401851\n",
            "Epoch 18/30, Loss: 0.627353, Validation Error: 0.395319\n",
            "Epoch 19/30, Loss: 0.627898, Validation Error: 0.396952\n",
            "Epoch 20/30, Loss: 0.625357, Validation Error: 0.405116\n",
            "Epoch 21/30, Loss: 0.633032, Validation Error: 0.390421\n",
            "Epoch 22/30, Loss: 0.632351, Validation Error: 0.387700\n",
            "Epoch 23/30, Loss: 0.644944, Validation Error: 0.396771\n",
            "Epoch 24/30, Loss: 0.620549, Validation Error: 0.385522\n",
            "Epoch 25/30, Loss: 0.612643, Validation Error: 0.388970\n",
            "Epoch 26/30, Loss: 0.615031, Validation Error: 0.389514\n",
            "Epoch 27/30, Loss: 0.619034, Validation Error: 0.395319\n",
            "Epoch 28/30, Loss: 0.612762, Validation Error: 0.384071\n",
            "Epoch 29/30, Loss: 0.608251, Validation Error: 0.383345\n",
            "Epoch 30/30, Loss: 0.604798, Validation Error: 0.378447\n"
          ]
        },
        {
          "data": {
            "image/png": "[encoded data removed]",
            "text/plain": [
              "<Figure size 432x288 with 1 Axes>"
            ]
          },
          "metadata": {
            "needs_background": "light"
          },
          "output_type": "display_data"
        },
        {
          "data": {
            "image/png": "[encoded data removed]",
            "text/plain": [
              "<Figure size 432x288 with 1 Axes>"
            ]
          },
          "metadata": {
            "needs_background": "light"
          },
          "output_type": "display_data"
        }
      ],
      "source": [
        "num_epochs = 30\n",
        "\n",
        "train_loss = np.zeros(num_epochs)\n",
        "val_error = np.zeros(num_epochs)\n",
        "\n",
        "for epoch in range(num_epochs):\n",
        "    running_loss = 0 \n",
        "    for images, labels in train_loader: \n",
        "        # ensure labels are same size and type\n",
        "        labels = labels.unsqueeze(1).float()\n",
        "        # forward pass\n",
        "        outputs = encoder(images)\n",
        "        loss_value = loss(outputs, labels)\n",
        "        # backward pass\n",
        "        optimizer.zero_grad()\n",
        "        loss_value.backward()\n",
        "        optimizer.step()\n",
        "        # for statistics\n",
        "        running_loss += loss_value.item()\n",
        "    # compute average loss \n",
        "    train_loss[epoch] = running_loss / num_steps\n",
        "    # evaluate on validation set\n",
        "    val_error[epoch] = evaluate(encoder, val_loader)\n",
        "    print(f\"Epoch {epoch+1}/{num_epochs}, Loss: {loss_value.item():.6f}, Validation Error: {val_error[epoch]:.6f}\")\n",
        "\n",
        "# show total loss\n",
        "plt.title(\"Total Loss\")\n",
        "plt.plot(range(1, len(train_loss) + 1), train_loss)\n",
        "plt.xlabel(\"Epochs\")\n",
        "plt.ylabel(\"Loss\")\n",
        "plt.show()\n",
        "plt.title(\"Validation Error\")\n",
        "plt.plot(range(1, len(val_error) + 1), val_error)\n",
        "plt.xlabel(\"Epochs\")\n",
        "plt.ylabel(\"Error\")\n",
        "plt.show()"
      ]
    },
    {
      "cell_type": "markdown",
      "metadata": {
        "id": "UbdH679mA5vn"
      },
      "source": [
        "## Unfreezing Encoder Layers"
      ]
    },
    {
      "cell_type": "code",
      "execution_count": 96,
      "metadata": {
        "id": "FlvwgEY_A8UR"
      },
      "outputs": [],
      "source": [
        "for i, param in enumerate(encoder.parameters()): \n",
        "    if i < 6: param.requires_grad = True"
      ]
    },
    {
      "cell_type": "markdown",
      "metadata": {},
      "source": [
        "### Training"
      ]
    },
    {
      "cell_type": "code",
      "execution_count": 97,
      "metadata": {},
      "outputs": [
        {
          "name": "stdout",
          "output_type": "stream",
          "text": [
            "Epoch 1/50, Loss: 0.432311, Validation Error: 0.292816\n",
            "Epoch 2/50, Loss: 0.373474, Validation Error: 0.224964\n",
            "Epoch 3/50, Loss: 0.120792, Validation Error: 0.090167\n",
            "Epoch 4/50, Loss: 0.074165, Validation Error: 0.042997\n",
            "Epoch 5/50, Loss: 0.048626, Validation Error: 0.028483\n",
            "Epoch 6/50, Loss: 0.049352, Validation Error: 0.025036\n",
            "Epoch 7/50, Loss: 0.033752, Validation Error: 0.022859\n",
            "Epoch 8/50, Loss: 0.037953, Validation Error: 0.026488\n",
            "Epoch 9/50, Loss: 0.035277, Validation Error: 0.026125\n",
            "Epoch 10/50, Loss: 0.022993, Validation Error: 0.024311\n",
            "Epoch 11/50, Loss: 0.012856, Validation Error: 0.023041\n",
            "Epoch 12/50, Loss: 0.009788, Validation Error: 0.023041\n",
            "Epoch 13/50, Loss: 0.005047, Validation Error: 0.022134\n",
            "Epoch 14/50, Loss: 0.003949, Validation Error: 0.023948\n",
            "Epoch 15/50, Loss: 0.009174, Validation Error: 0.024855\n",
            "Epoch 16/50, Loss: 0.002829, Validation Error: 0.024673\n",
            "Epoch 17/50, Loss: 0.002892, Validation Error: 0.024673\n",
            "Epoch 18/50, Loss: 0.000812, Validation Error: 0.023041\n",
            "Epoch 19/50, Loss: 0.002726, Validation Error: 0.023222\n",
            "Epoch 20/50, Loss: 0.008811, Validation Error: 0.029209\n",
            "Epoch 21/50, Loss: 0.000739, Validation Error: 0.023948\n",
            "Epoch 22/50, Loss: 0.000509, Validation Error: 0.029935\n",
            "Epoch 23/50, Loss: 0.002068, Validation Error: 0.027939\n",
            "Epoch 24/50, Loss: 0.000431, Validation Error: 0.028665\n",
            "Epoch 25/50, Loss: 0.000155, Validation Error: 0.025943\n",
            "Epoch 26/50, Loss: 0.000026, Validation Error: 0.026851\n",
            "Epoch 27/50, Loss: 0.000635, Validation Error: 0.025581\n",
            "Epoch 28/50, Loss: 0.000022, Validation Error: 0.023041\n",
            "Epoch 29/50, Loss: 0.000172, Validation Error: 0.026306\n",
            "Epoch 30/50, Loss: 0.000450, Validation Error: 0.029209\n",
            "Epoch 31/50, Loss: 0.000111, Validation Error: 0.026125\n",
            "Epoch 32/50, Loss: 0.000006, Validation Error: 0.024673\n",
            "Epoch 33/50, Loss: 0.000049, Validation Error: 0.027032\n",
            "Epoch 34/50, Loss: 0.000034, Validation Error: 0.027395\n",
            "Epoch 35/50, Loss: 0.018660, Validation Error: 0.029209\n",
            "Epoch 36/50, Loss: 0.000574, Validation Error: 0.028483\n",
            "Epoch 37/50, Loss: 0.000177, Validation Error: 0.025218\n",
            "Epoch 38/50, Loss: 0.001059, Validation Error: 0.030479\n",
            "Epoch 39/50, Loss: 0.000973, Validation Error: 0.040094\n",
            "Epoch 40/50, Loss: 0.001568, Validation Error: 0.033019\n",
            "Epoch 41/50, Loss: 0.000454, Validation Error: 0.033019\n",
            "Epoch 42/50, Loss: 0.000022, Validation Error: 0.028120\n",
            "Epoch 43/50, Loss: 0.000165, Validation Error: 0.028302\n",
            "Epoch 44/50, Loss: 0.000008, Validation Error: 0.027576\n",
            "Epoch 45/50, Loss: 0.000121, Validation Error: 0.024129\n",
            "Epoch 46/50, Loss: 0.000029, Validation Error: 0.029390\n",
            "Epoch 47/50, Loss: 0.042748, Validation Error: 0.032112\n",
            "Epoch 48/50, Loss: 0.000008, Validation Error: 0.027032\n",
            "Epoch 49/50, Loss: 0.000424, Validation Error: 0.028665\n",
            "Epoch 50/50, Loss: 0.000008, Validation Error: 0.029753\n"
          ]
        },
        {
          "data": {
            "image/png": "[encoded data removed]",
            "text/plain": [
              "<Figure size 432x288 with 1 Axes>"
            ]
          },
          "metadata": {
            "needs_background": "light"
          },
          "output_type": "display_data"
        },
        {
          "data": {
            "image/png": "[encoded data removed]",
            "text/plain": [
              "<Figure size 432x288 with 1 Axes>"
            ]
          },
          "metadata": {
            "needs_background": "light"
          },
          "output_type": "display_data"
        }
      ],
      "source": [
        "model_path = pathlib.Path(f\"./models/autoencoder_bs{batch_size}_lr{learning_rate}\")\n",
        "model_path.mkdir(parents=True, exist_ok=True)\n",
        "\n",
        "num_epochs = 50 \n",
        "\n",
        "train_loss = np.zeros(num_epochs)\n",
        "val_error = np.zeros(num_epochs)\n",
        "\n",
        "for epoch in range(num_epochs):\n",
        "    running_loss = 0 \n",
        "    for images, labels in train_loader: \n",
        "        # ensure labels are same size and type\n",
        "        labels = labels.unsqueeze(1).float()\n",
        "        # forward pass\n",
        "        outputs = encoder(images)\n",
        "        loss_value = loss(outputs, labels)\n",
        "        # backward pass\n",
        "        optimizer.zero_grad()\n",
        "        loss_value.backward()\n",
        "        optimizer.step()\n",
        "        # for statistics\n",
        "        running_loss += loss_value.item()\n",
        "    # compute average loss \n",
        "    train_loss[epoch] = running_loss / num_steps\n",
        "    # evaluate on validation set\n",
        "    val_error[epoch] = evaluate(encoder, val_loader)\n",
        "    print(f\"Epoch {epoch+1}/{num_epochs}, Loss: {loss_value.item():.6f}, Validation Error: {val_error[epoch]:.6f}\")\n",
        "    # save model after each epoch\n",
        "    torch.save(encoder.state_dict(), model_path / f\"epoch_{epoch+1}\")\n",
        "\n",
        "# show total loss\n",
        "plt.title(\"Total Loss\")\n",
        "plt.plot(range(1, len(train_loss) + 1), train_loss)\n",
        "plt.xlabel(\"Epochs\")\n",
        "plt.ylabel(\"Loss\")\n",
        "plt.show()\n",
        "plt.title(\"Validation Error\")\n",
        "plt.plot(range(1, len(val_error) + 1), val_error)\n",
        "plt.xlabel(\"Epochs\")\n",
        "plt.ylabel(\"Error\")\n",
        "plt.show()"
      ]
    }
  ],
  "metadata": {
    "accelerator": "GPU",
    "colab": {
      "collapsed_sections": [],
      "machine_shape": "hm",
      "name": "autoencoder.ipynb",
      "provenance": []
    },
    "gpuClass": "standard",
    "kernelspec": {
      "display_name": "Python 3.8.10 64-bit",
      "language": "python",
      "name": "python3"
    },
    "language_info": {
      "codemirror_mode": {
        "name": "ipython",
        "version": 3
      },
      "file_extension": ".py",
      "mimetype": "text/x-python",
      "name": "python",
      "nbconvert_exporter": "python",
      "pygments_lexer": "ipython3",
      "version": "3.8.10"
    },
    "vscode": {
      "interpreter": {
        "hash": "aee8b7b246df8f9039afb4144a1f6fd8d2ca17a180786b69acc140d282b71a49"
      }
    }
  },
  "nbformat": 4,
  "nbformat_minor": 0
}
